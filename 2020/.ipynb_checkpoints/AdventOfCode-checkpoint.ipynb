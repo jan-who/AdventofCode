{
 "cells": [
  {
   "cell_type": "markdown",
   "metadata": {},
   "source": [
    "# Advent of Code 2020\n",
    "\n",
    "## Let's collect the 50 stars!"
   ]
  },
  {
   "cell_type": "markdown",
   "metadata": {},
   "source": [
    "### Prerequisites"
   ]
  },
  {
   "cell_type": "code",
   "execution_count": 1,
   "metadata": {},
   "outputs": [],
   "source": [
    "# Importing the data\n",
    "def read_data(input_file):\n",
    "    with open(input_file, 'r') as file:\n",
    "        data = file.read().splitlines()\n",
    "    return data"
   ]
  },
  {
   "cell_type": "markdown",
   "metadata": {
    "heading_collapsed": true
   },
   "source": [
    "### Day One"
   ]
  },
  {
   "cell_type": "code",
   "execution_count": 26,
   "metadata": {
    "hidden": true
   },
   "outputs": [],
   "source": [
    "testdata = [1721,979,366,299,675,1456]\n",
    "\n",
    "data = read_data(\"input_day1.txt\")\n",
    "data = [int(x) for x in data] # zu Integer konvertieren\n",
    "\n",
    "# data = testdata"
   ]
  },
  {
   "cell_type": "markdown",
   "metadata": {
    "hidden": true
   },
   "source": [
    "#### Part One"
   ]
  },
  {
   "cell_type": "code",
   "execution_count": 27,
   "metadata": {
    "hidden": true
   },
   "outputs": [
    {
     "name": "stdout",
     "output_type": "stream",
     "text": [
      "679 + 1341 = 2020\n",
      "Solution: 679 * 1341 = 910539\n",
      "1341 + 679 = 2020\n",
      "Solution: 1341 * 679 = 910539\n"
     ]
    }
   ],
   "source": [
    "for x in data:\n",
    "    for y in data:\n",
    "        if x + y == 2020:\n",
    "            print(f\"{x} + {y} = 2020\")\n",
    "            print(f\"Solution: {x} * {y} = {x*y}\")"
   ]
  },
  {
   "cell_type": "markdown",
   "metadata": {
    "hidden": true
   },
   "source": [
    "#### Part Two"
   ]
  },
  {
   "cell_type": "code",
   "execution_count": 28,
   "metadata": {
    "hidden": true
   },
   "outputs": [
    {
     "name": "stdout",
     "output_type": "stream",
     "text": [
      "912 + 977 + 131 = 2020\n",
      "Solution: 912 * 977 * 131 = 116724144\n",
      "912 + 131 + 977 = 2020\n",
      "Solution: 912 * 131 * 977 = 116724144\n",
      "977 + 912 + 131 = 2020\n",
      "Solution: 977 * 912 * 131 = 116724144\n",
      "977 + 131 + 912 = 2020\n",
      "Solution: 977 * 131 * 912 = 116724144\n",
      "131 + 912 + 977 = 2020\n",
      "Solution: 131 * 912 * 977 = 116724144\n",
      "131 + 977 + 912 = 2020\n",
      "Solution: 131 * 977 * 912 = 116724144\n"
     ]
    }
   ],
   "source": [
    "for x in data:\n",
    "    for y in data:\n",
    "        for z in data:\n",
    "            if x + y + z == 2020:\n",
    "                print(f\"{x} + {y} + {z} = 2020\")\n",
    "                print(f\"Solution: {x} * {y} * {z} = {x*y*z}\")"
   ]
  },
  {
   "cell_type": "markdown",
   "metadata": {
    "heading_collapsed": true
   },
   "source": [
    "### Day Two"
   ]
  },
  {
   "cell_type": "code",
   "execution_count": 49,
   "metadata": {
    "hidden": true
   },
   "outputs": [],
   "source": [
    "testdata = ['1-3 a: abcde','1-3 b: cdefg','2-9 c: ccccccccc']\n",
    "data = read_data(\"input_day2.txt\")\n",
    "\n",
    "#data = testdata"
   ]
  },
  {
   "cell_type": "markdown",
   "metadata": {
    "hidden": true
   },
   "source": [
    "#### Part One"
   ]
  },
  {
   "cell_type": "code",
   "execution_count": 40,
   "metadata": {
    "hidden": true
   },
   "outputs": [
    {
     "name": "stdout",
     "output_type": "stream",
     "text": [
      "Number of valid passwords: 582\n"
     ]
    }
   ],
   "source": [
    "valid_passwords = 0\n",
    "for entry in data:\n",
    "    parts = entry.split(': ')\n",
    "    criteria = parts[0]\n",
    "    password = parts[1]\n",
    "    criteria = criteria.split(' ')\n",
    "    key = criteria[1]\n",
    "    appearances = criteria[0]\n",
    "    appearances = appearances.split('-')\n",
    "    min_appearances = int(appearances[0])\n",
    "    max_appearances = int(appearances[1])\n",
    "    \n",
    "    if password.count(key) >= min_appearances and password.count(key) <= max_appearances:\n",
    "        valid_passwords += 1\n",
    "        \n",
    "print(f\"Number of valid passwords: {valid_passwords}\")"
   ]
  },
  {
   "cell_type": "markdown",
   "metadata": {
    "hidden": true
   },
   "source": [
    "#### Part Two"
   ]
  },
  {
   "cell_type": "code",
   "execution_count": 50,
   "metadata": {
    "hidden": true
   },
   "outputs": [
    {
     "name": "stdout",
     "output_type": "stream",
     "text": [
      "Number of valid passwords: 729\n"
     ]
    }
   ],
   "source": [
    "valid_passwords = 0\n",
    "for entry in data:\n",
    "    parts = entry.split(': ')\n",
    "    criteria = parts[0]\n",
    "    password = parts[1]\n",
    "    criteria = criteria.split(' ')\n",
    "    key = criteria[1]\n",
    "    appearances = criteria[0]\n",
    "    appearances = appearances.split('-')\n",
    "    pos_a = int(appearances[0])-1 # -1 because of no zero-indexing\n",
    "    pos_b = int(appearances[1])-1\n",
    "    \n",
    "    count_valids = 0\n",
    "    count_valids += 1 if password[pos_a] == key else 0\n",
    "    count_valids += 1 if password[pos_b] == key else 0\n",
    "    valid_passwords += 1 if count_valids == 1 else 0\n",
    "        \n",
    "print(f\"Number of valid passwords: {valid_passwords}\")"
   ]
  },
  {
   "cell_type": "markdown",
   "metadata": {
    "heading_collapsed": true
   },
   "source": [
    "### Day Three"
   ]
  },
  {
   "cell_type": "code",
   "execution_count": 58,
   "metadata": {
    "hidden": true
   },
   "outputs": [],
   "source": [
    "testdata = \"\"\"..##.......\n",
    "#...#...#..\n",
    ".#....#..#.\n",
    "..#.#...#.#\n",
    ".#...##..#.\n",
    "..#.##.....\n",
    ".#.#.#....#\n",
    ".#........#\n",
    "#.##...#...\n",
    "#...##....#\n",
    ".#..#...#.#\"\"\"\n",
    "testdata = testdata.splitlines()\n",
    "\n",
    "data = read_data('input_day3.txt')\n",
    "\n",
    "#data = testdata"
   ]
  },
  {
   "cell_type": "markdown",
   "metadata": {
    "hidden": true
   },
   "source": [
    "#### Part One"
   ]
  },
  {
   "cell_type": "code",
   "execution_count": 59,
   "metadata": {
    "hidden": true
   },
   "outputs": [
    {
     "name": "stdout",
     "output_type": "stream",
     "text": [
      "We would encounter 164 trees using this slope.\n"
     ]
    }
   ],
   "source": [
    "DEBUG = False\n",
    "\n",
    "x_pos, y_pos = 3, 1\n",
    "hit_tree = 0\n",
    "\n",
    "x, y = 0, 0\n",
    "for line in data:\n",
    "    for pos in line:\n",
    "        if x == x_pos and y == y_pos:\n",
    "            x_pos += 3\n",
    "            y_pos += 1\n",
    "            if pos == '#':\n",
    "                if DEBUG: print('X', end='')\n",
    "                hit_tree += 1\n",
    "            else:\n",
    "                if DEBUG: print('O', end='')\n",
    "        else:\n",
    "            if DEBUG: print(line[x], end='')\n",
    "        x += 1\n",
    "        if x_pos >= len(line):\n",
    "            x_pos -= len(line)\n",
    "            if DEBUG: print(\" New x_pos\", end='')\n",
    "    if DEBUG: print()\n",
    "    y += 1\n",
    "    x = 0\n",
    "\n",
    "print(f\"We would encounter {hit_tree} trees using this slope.\")"
   ]
  },
  {
   "cell_type": "markdown",
   "metadata": {
    "hidden": true
   },
   "source": [
    "#### Part Two"
   ]
  },
  {
   "cell_type": "code",
   "execution_count": 60,
   "metadata": {
    "hidden": true,
    "scrolled": true
   },
   "outputs": [
    {
     "name": "stdout",
     "output_type": "stream",
     "text": [
      "Tree multiplication is 5007658656.\n"
     ]
    }
   ],
   "source": [
    "slopes = [(1,1), (3,1), (5,1), (7,1), (1,2)]\n",
    "\n",
    "hit_trees = 1\n",
    "for slope_x, slope_y in slopes:\n",
    "    x_pos, y_pos = slope_x, slope_y\n",
    "    hit_tree = 0\n",
    "    x, y = 0,0\n",
    "    \n",
    "    for line in data:\n",
    "        for pos in line:\n",
    "            if x == x_pos and y == y_pos:\n",
    "                x_pos += slope_x\n",
    "                y_pos += slope_y\n",
    "                \n",
    "                if pos == '#': \n",
    "                    hit_tree += 1\n",
    "            \n",
    "            x += 1\n",
    "            \n",
    "            if x_pos >= len(line):\n",
    "                x_pos -= len(line)\n",
    "        y += 1\n",
    "        x = 0\n",
    "    hit_trees *= hit_tree\n",
    "\n",
    "print(f\"Tree multiplication is {hit_trees}.\")"
   ]
  },
  {
   "cell_type": "markdown",
   "metadata": {
    "heading_collapsed": true
   },
   "source": [
    "### Day Four"
   ]
  },
  {
   "cell_type": "code",
   "execution_count": 35,
   "metadata": {
    "hidden": true
   },
   "outputs": [],
   "source": [
    "testdata = \"\"\"ecl:gry pid:860033327 eyr:2020 hcl:#fffffd\n",
    "byr:1937 iyr:2017 cid:147 hgt:183cm\n",
    "\n",
    "iyr:2013 ecl:amb cid:350 eyr:2023 pid:028048884\n",
    "hcl:#cfa07d byr:1929\n",
    "\n",
    "hcl:#ae17e1 iyr:2013\n",
    "eyr:2024\n",
    "ecl:brn pid:760753108 byr:1931\n",
    "hgt:179cm\n",
    "\n",
    "hcl:#cfa07d eyr:2025 pid:166559648\n",
    "iyr:2011 ecl:brn hgt:59in\"\"\"\n",
    "testdata = testdata.splitlines()\n",
    "\n",
    "data = read_data('input_day4.txt')\n",
    "\n",
    "#data = testdata"
   ]
  },
  {
   "cell_type": "markdown",
   "metadata": {
    "hidden": true
   },
   "source": [
    "#### Part One"
   ]
  },
  {
   "cell_type": "code",
   "execution_count": 9,
   "metadata": {
    "hidden": true
   },
   "outputs": [
    {
     "name": "stdout",
     "output_type": "stream",
     "text": [
      "We found 196 valid passports from 259 people.\n"
     ]
    }
   ],
   "source": [
    "DEBUG = False\n",
    "\n",
    "required_fields = ['byr','iyr','eyr','hgt','hcl','ecl','pid']\n",
    "found_fields = []\n",
    "person_count = 0\n",
    "valid_count = 0\n",
    "\n",
    "found_fields = []\n",
    "if DEBUG: print(\"New person:\")\n",
    "for line in data:\n",
    "    if line != '':\n",
    "        if DEBUG: print(line)\n",
    "        for fields in line.split():\n",
    "            key, _ = fields.split(':')\n",
    "            if key in required_fields:\n",
    "                found_fields.append(key)    \n",
    "    else:\n",
    "        person_count += 1\n",
    "                \n",
    "        missing_fields = [f for f in required_fields if f not in found_fields]\n",
    "        if len(missing_fields) == 0:\n",
    "            valid_count += 1\n",
    "            if DEBUG: print(f\">> VALID PASSPORT! Now at {valid_count}\")\n",
    "        elif DEBUG:\n",
    "            print(\"Missing: \", end='')\n",
    "            for x in missing_fields:\n",
    "                print(f\"{x} \", end='')\n",
    "            print()\n",
    "        \n",
    "        found_fields = []\n",
    "        if DEBUG: \n",
    "            print()\n",
    "            print(\"New person:\")\n",
    "            \n",
    "person_count += 1  \n",
    "missing_fields = [f for f in required_fields if f not in found_fields]\n",
    "if len(missing_fields) == 0:\n",
    "    valid_count += 1\n",
    "    if DEBUG: print(f\">> VALID PASSPORT! Now at {valid_count}\")\n",
    "elif DEBUG:\n",
    "    print(\"Missing: \", end='')\n",
    "    for x in missing_fields:\n",
    "        print(f\"{x} \", end='')\n",
    "    print()\n",
    "            \n",
    "if DEBUG: print()    \n",
    "print(f\"We found {valid_count} valid passports from {person_count} people.\")"
   ]
  },
  {
   "cell_type": "code",
   "execution_count": 39,
   "metadata": {
    "hidden": true
   },
   "outputs": [
    {
     "name": "stdout",
     "output_type": "stream",
     "text": [
      "We now found 114 valid passports from 259 people.\n"
     ]
    }
   ],
   "source": [
    "import re\n",
    "\n",
    "DEBUG = False\n",
    "\n",
    "required_fields = ['byr','iyr','eyr','hgt','hcl','ecl','pid']\n",
    "validation_dict = {'byr': {'min': 1920, 'max': 2002},\n",
    "                   'iyr': {'min': 2010, 'max': 2020},\n",
    "                   'eyr': {'min': 2020, 'max': 2030}}\n",
    "found_fields = []\n",
    "person_count = 0\n",
    "valid_count = 0\n",
    "\n",
    "found_fields = []\n",
    "for line in data:\n",
    "    if DEBUG: print(line)\n",
    "    if line != '':\n",
    "        for fields in line.split():\n",
    "            key, value = fields.split(':')\n",
    "            if key in required_fields:\n",
    "                if key in validation_dict and int(value) >= validation_dict[key]['min'] and int(value) <= validation_dict[key]['max']:\n",
    "                    found_fields.append(key)\n",
    "                    if DEBUG: print(\"Found:\", key)\n",
    "                elif key == 'hgt' and len(value) >= 3:\n",
    "                    measure = value[-2:]\n",
    "                    height = int(value[:-2])\n",
    "                    if (measure == 'cm' and height >= 150 and height <= 193) \\\n",
    "                    or (measure == 'in' and height >= 59 and height <= 76):\n",
    "                        found_fields.append(key)\n",
    "                        if DEBUG: print(\"Found:\", key)\n",
    "                elif key == 'hcl' and value[0] == '#' and len(value) == 7 and re.search(\"[0-9]*[a-z]*[A-Z]*\", value[1:]):\n",
    "                    found_fields.append(key)\n",
    "                    if DEBUG: print(\"Found:\", key)\n",
    "                elif key == 'ecl' and value in ['amb','blu','brn','gry','grn','hzl','oth']:\n",
    "                    found_fields.append(key)\n",
    "                    if DEBUG: print(\"Found:\", key)\n",
    "                elif key == 'pid' and len(value) == 9 and isinstance(int(value), int):\n",
    "                    found_fields.append(key)\n",
    "                    if DEBUG: print(\"Found:\", key)\n",
    "    else:\n",
    "        if DEBUG: print()\n",
    "        person_count += 1\n",
    "        \n",
    "        missing_fields = [f for f in required_fields if f not in found_fields]\n",
    "        if len(missing_fields) == 0:\n",
    "            valid_count += 1\n",
    "        \n",
    "        found_fields = []\n",
    "            \n",
    "person_count += 1  \n",
    "missing_fields = [f for f in required_fields if f not in found_fields]\n",
    "if len(missing_fields) == 0:\n",
    "    valid_count += 1\n",
    "    \n",
    "print(f\"We now found {valid_count} valid passports from {person_count} people.\")"
   ]
  },
  {
   "cell_type": "markdown",
   "metadata": {
    "heading_collapsed": true
   },
   "source": [
    "### Day Five"
   ]
  },
  {
   "cell_type": "code",
   "execution_count": 82,
   "metadata": {
    "hidden": true
   },
   "outputs": [],
   "source": [
    "testdata = [\"FBFBBFFRLR\",\"BFFFBBFRRR\",\"FFFBBBFRRR\",\"BBFFBBFRLL\"]\n",
    "\n",
    "data = read_data('input_day5.txt')\n",
    "\n",
    "#data = testdata"
   ]
  },
  {
   "cell_type": "markdown",
   "metadata": {
    "heading_collapsed": true,
    "hidden": true
   },
   "source": [
    "#### Part One"
   ]
  },
  {
   "cell_type": "code",
   "execution_count": 88,
   "metadata": {
    "hidden": true
   },
   "outputs": [
    {
     "name": "stdout",
     "output_type": "stream",
     "text": [
      "The highest seat ID is: 848\n"
     ]
    }
   ],
   "source": [
    "ROWS = 128\n",
    "COLUMNS = 8\n",
    "\n",
    "def find_seat(string, min_rows, max_rows):\n",
    "    if len(string) == 1:\n",
    "        if string == 'F' or string == 'L':\n",
    "            return min_rows\n",
    "        elif string == 'B' or string == 'R':\n",
    "            return max_rows\n",
    "    \n",
    "    if string[0] == 'F' or string[0] == 'L':\n",
    "        max_rows = max_rows - (max_rows-min_rows)//2 - 1\n",
    "    elif string[0] == 'B' or string[0] == 'R':\n",
    "        min_rows = min_rows + (max_rows-min_rows)//2 + 1\n",
    "\n",
    "    return find_seat(string[1:], min_rows, max_rows)\n",
    "    \n",
    "highest_id = -1\n",
    "seats = {}\n",
    "for string in data:    \n",
    "    row = find_seat(string[:7], 0, ROWS-1)\n",
    "    column = find_seat(string[7:], 0, COLUMNS-1)\n",
    "    seat_id = row*8+column\n",
    "    \n",
    "    # for part two\n",
    "    if row not in seats:\n",
    "        seats[row] = {}\n",
    "    seats[row][column] = True\n",
    "\n",
    "    \n",
    "    if seat_id > highest_id:\n",
    "        highest_id = seat_id\n",
    "    #print(f\"For the string {string} we found row {row} and column {column}, giving us seat ID {seat_id}.\")\n",
    "    \n",
    "print(\"The highest seat ID is:\", highest_id)"
   ]
  },
  {
   "cell_type": "markdown",
   "metadata": {
    "heading_collapsed": true,
    "hidden": true
   },
   "source": [
    "#### Part Two"
   ]
  },
  {
   "cell_type": "code",
   "execution_count": 95,
   "metadata": {
    "hidden": true
   },
   "outputs": [
    {
     "name": "stdout",
     "output_type": "stream",
     "text": [
      "Empty seat at row 85 and column 2 with seat ID 682\n",
      "Empty seat at row 106 and column 1 with seat ID 849\n",
      "Empty seat at row 106 and column 2 with seat ID 850\n",
      "Empty seat at row 106 and column 3 with seat ID 851\n",
      "Empty seat at row 106 and column 4 with seat ID 852\n",
      "Empty seat at row 106 and column 5 with seat ID 853\n",
      "Empty seat at row 106 and column 6 with seat ID 854\n"
     ]
    }
   ],
   "source": [
    "for row in range(128):\n",
    "    if row not in seats:\n",
    "        continue\n",
    "    for column in range(7):\n",
    "        if column not in seats[row]:\n",
    "            print(f\"Empty seat at row {row} and column {column} with seat ID {row*8+column}\")\n"
   ]
  },
  {
   "cell_type": "markdown",
   "metadata": {
    "heading_collapsed": true
   },
   "source": [
    "### Day Six"
   ]
  },
  {
   "cell_type": "code",
   "execution_count": 50,
   "metadata": {
    "hidden": true
   },
   "outputs": [],
   "source": [
    "testdata = \"\"\"abc\n",
    "\n",
    "a\n",
    "b\n",
    "c\n",
    "\n",
    "ab\n",
    "ac\n",
    "\n",
    "a\n",
    "a\n",
    "a\n",
    "a\n",
    "\n",
    "b\"\"\"\n",
    "testdata = testdata.splitlines()\n",
    "\n",
    "data = read_data('input_day6.txt')\n",
    "\n",
    "#data = testdata"
   ]
  },
  {
   "cell_type": "markdown",
   "metadata": {
    "hidden": true
   },
   "source": [
    "#### Part One"
   ]
  },
  {
   "cell_type": "code",
   "execution_count": 19,
   "metadata": {
    "hidden": true
   },
   "outputs": [
    {
     "name": "stdout",
     "output_type": "stream",
     "text": [
      "The total number of answers is: 6291\n"
     ]
    }
   ],
   "source": [
    "total_answers = []\n",
    "group_question = []\n",
    "\n",
    "for line in data:\n",
    "    if line != '':\n",
    "        for letter in line:\n",
    "            if letter not in group_question:\n",
    "                group_question.append(letter)\n",
    "    else:\n",
    "        total_answers.append(len(group_question))\n",
    "        group_question = []\n",
    "total_answers.append(len(group_question))\n",
    "\n",
    "print(\"The total number of answers is:\", sum(total_answers))"
   ]
  },
  {
   "cell_type": "markdown",
   "metadata": {
    "hidden": true
   },
   "source": [
    "#### Part Two"
   ]
  },
  {
   "cell_type": "code",
   "execution_count": 65,
   "metadata": {
    "hidden": true
   },
   "outputs": [
    {
     "name": "stdout",
     "output_type": "stream",
     "text": [
      "The total number of answers is: 3052\n"
     ]
    }
   ],
   "source": [
    "DEBUG = False\n",
    "\n",
    "total_answers = []\n",
    "group_question = {}\n",
    "group_persons = 0\n",
    "group_totals = 0\n",
    "\n",
    "for line in data:\n",
    "    if line != '':\n",
    "        if DEBUG: print(line)\n",
    "        for letter in line:\n",
    "            if letter not in group_question:\n",
    "                group_question[letter] = 1\n",
    "            else:\n",
    "                group_question[letter] += 1\n",
    "        group_persons += 1\n",
    "        \n",
    "    else:\n",
    "        if DEBUG: print(\"Correct answers: \", end='')\n",
    "        for k in group_question:\n",
    "            if group_question[k] == group_persons:\n",
    "                group_totals += 1\n",
    "                if DEBUG: print(k,\"\",end='')\n",
    "                    \n",
    "        if DEBUG: print()\n",
    "        if DEBUG: print(group_question)\n",
    "        if DEBUG: print(f\"We found {group_persons} persons and {group_totals} correct answers.\")\n",
    "        if DEBUG: print()\n",
    "        total_answers.append(group_totals)\n",
    "        group_question = {}\n",
    "        group_persons = 0\n",
    "        group_totals = 0\n",
    "\n",
    "if DEBUG: print(\"Correct answers: \", end='')\n",
    "for k in group_question:\n",
    "     if group_question[k] == group_persons:\n",
    "        group_totals += 1\n",
    "        if DEBUG: print(k,\"\",end='')\n",
    "\n",
    "total_answers.append(group_totals)\n",
    "if DEBUG: print()\n",
    "if DEBUG: print(group_question)\n",
    "if DEBUG: print(f\"We found {group_persons} persons and {group_totals} correct answers.\")\n",
    "if DEBUG: print()\n",
    "\n",
    "print(\"The total number of answers is:\", sum(total_answers))"
   ]
  },
  {
   "cell_type": "markdown",
   "metadata": {
    "heading_collapsed": true
   },
   "source": [
    "### Day Seven"
   ]
  },
  {
   "cell_type": "code",
   "execution_count": 248,
   "metadata": {
    "hidden": true
   },
   "outputs": [],
   "source": [
    "testdata = \"\"\"light red bags contain 1 bright white bag, 2 muted yellow bags.\n",
    "dark orange bags contain 3 bright white bags, 4 muted yellow bags.\n",
    "bright white bags contain 1 shiny gold bag.\n",
    "muted yellow bags contain 2 shiny gold bags, 9 faded blue bags.\n",
    "shiny gold bags contain 1 dark olive bag, 2 vibrant plum bags.\n",
    "dark olive bags contain 3 faded blue bags, 4 dotted black bags.\n",
    "vibrant plum bags contain 5 faded blue bags, 6 dotted black bags.\n",
    "faded blue bags contain no other bags.\n",
    "dotted black bags contain no other bags.\n",
    "\"\"\"\n",
    "testdata = testdata.splitlines()\n",
    "\n",
    "testdata2 = \"\"\"shiny gold bags contain 2 dark red bags.\n",
    "dark red bags contain 2 dark orange bags.\n",
    "dark orange bags contain 2 dark yellow bags.\n",
    "dark yellow bags contain 2 dark green bags.\n",
    "dark green bags contain 2 dark blue bags.\n",
    "dark blue bags contain 2 dark violet bags.\n",
    "dark violet bags contain no other bags.\"\"\"\n",
    "testdata2 = testdata2.splitlines()\n",
    "\n",
    "data = read_data('input_day7.txt')\n",
    "\n",
    "#data = testdata\n",
    "\n",
    "DEBUG = False\n",
    "bag_dic = {}\n",
    "\n",
    "for line in data:\n",
    "    bags_holding = line.split(' contain ')\n",
    "    current_bag = bags_holding[0].replace(' bags','') # cleansing\n",
    "    \n",
    "    current_bag_contains = bags_holding[1].split(', ')\n",
    "    # cleansing\n",
    "    current_bag_contains = [x.replace('.','').replace(' bags','').replace(' bag','') for x in current_bag_contains]\n",
    "    contain_dic = {}\n",
    "    for x in current_bag_contains:\n",
    "        \n",
    "        if \"no other\" in x:\n",
    "            contain_dic = False\n",
    "        else:\n",
    "            count = int(x.split(' ',1)[0])\n",
    "            bag = x.split(' ',1)[1]\n",
    "            contain_dic[bag] = count\n",
    "    \n",
    "    if current_bag not in bag_dic:\n",
    "        bag_dic[current_bag] = contain_dic\n",
    "    else:\n",
    "        print(\"Ohoh...\")\n",
    "        break\n",
    "\n",
    "if DEBUG: print(bag_dic)   "
   ]
  },
  {
   "cell_type": "markdown",
   "metadata": {
    "hidden": true
   },
   "source": [
    "#### Part One"
   ]
  },
  {
   "cell_type": "code",
   "execution_count": 249,
   "metadata": {
    "hidden": true
   },
   "outputs": [
    {
     "name": "stdout",
     "output_type": "stream",
     "text": [
      "At the end it is: 169\n"
     ]
    }
   ],
   "source": [
    "DEBUG = False\n",
    "SEARCH_ITEM='shiny gold'     \n",
    "\n",
    "def look_in_bags(bag_item, bag_search, found_item=False):\n",
    "    if DEBUG: print(f\"Looking at {bag_item} for {bag_search}...\")\n",
    "    if bag_item == bag_search:\n",
    "        if DEBUG: print(\"FOUND IT!\")\n",
    "        found_item = True\n",
    "        return found_item\n",
    "    if not bag_dic[bag_item]:\n",
    "        if DEBUG: print(\"Reached the end.\")\n",
    "    else:\n",
    "        keys = [x for x in bag_dic[bag_item].keys()]\n",
    "        if DEBUG: print(f\"Found the following keys: {keys}\")\n",
    "        for k in keys:\n",
    "            if DEBUG: print(f\"Going deeper at {k}...\")\n",
    "            found_item = look_in_bags(k, bag_search, found_item)\n",
    "    return found_item\n",
    "\n",
    "num_bags = 0\n",
    "for k in bag_dic.keys():\n",
    "    if DEBUG: print()\n",
    "    if DEBUG: print(f\"Now at key {k}:\")\n",
    "    \n",
    "    if k == SEARCH_ITEM:\n",
    "        continue\n",
    "    \n",
    "    return_value = look_in_bags(k,SEARCH_ITEM)\n",
    "    if return_value:\n",
    "        num_bags += 1\n",
    "        if DEBUG: print(f\"{k} contains the bag {SEARCH_ITEM}.\")\n",
    "        if DEBUG: print(f\"Now at {num_bags} bags.\")\n",
    "        \n",
    "if DEBUG: print() \n",
    "print(\"At the end it is:\", num_bags)"
   ]
  },
  {
   "cell_type": "markdown",
   "metadata": {
    "hidden": true
   },
   "source": [
    "#### Part Two"
   ]
  },
  {
   "cell_type": "code",
   "execution_count": 250,
   "metadata": {
    "hidden": true
   },
   "outputs": [
    {
     "name": "stdout",
     "output_type": "stream",
     "text": [
      "82372\n"
     ]
    }
   ],
   "source": [
    "DEBUG = False     \n",
    "\n",
    "def look_in_bags(bag_item, multiply=1):\n",
    "    num_bags = 0\n",
    "    if DEBUG: print()\n",
    "    if DEBUG: print(f\"{bag_item} contains \", end='')\n",
    "    if not bag_dic[bag_item]:\n",
    "        if DEBUG: print(\"nothing. Reached the end.\")\n",
    "    else:\n",
    "        for k, v in bag_dic[bag_item].items():\n",
    "            if DEBUG: print(f\"{v} bags with {k}\")\n",
    "            num_bags += (v*multiply)\n",
    "            if DEBUG: print(f\"Adding {v} to the count with multiplier {multiply}\")\n",
    "            if DEBUG: print(f\"Going deeper at {k}...\")\n",
    "            num_bags += look_in_bags(k, v*multiply)\n",
    "            if DEBUG: print(f\"Number of bags now at {num_bags}.\")\n",
    "    return num_bags\n",
    "    \n",
    "return_value = look_in_bags('shiny gold')\n",
    "print(return_value)"
   ]
  },
  {
   "cell_type": "markdown",
   "metadata": {
    "heading_collapsed": true
   },
   "source": [
    "### Day Eight"
   ]
  },
  {
   "cell_type": "code",
   "execution_count": 101,
   "metadata": {
    "hidden": true
   },
   "outputs": [],
   "source": [
    "testdata = \"\"\"nop +0\n",
    "acc +1\n",
    "jmp +4\n",
    "acc +3\n",
    "jmp -3\n",
    "acc -99\n",
    "acc +1\n",
    "jmp -4\n",
    "acc +6\"\"\"\n",
    "testdata = testdata.splitlines()\n",
    "\n",
    "data = read_data('input_day8.txt')\n",
    "\n",
    "#data = testdata"
   ]
  },
  {
   "cell_type": "code",
   "execution_count": 88,
   "metadata": {
    "hidden": true
   },
   "outputs": [],
   "source": [
    "from collections import deque\n",
    "\n",
    "class bootCode():\n",
    "    \"\"\"\n",
    "    bootCode class: input=None, debug=False\n",
    "    \"\"\"\n",
    "    def __init__(self, input=None, debug=False):\n",
    "        self.debug = debug\n",
    "        self.input = deque(enumerate(input) if input else [])\n",
    "        self.output = None\n",
    "        if self.debug: print(\">> Initialising bootCode\")\n",
    "        if self.debug and input: print(\">> Input:\", self.input)\n",
    "            \n",
    "    def __getitem__(self, index):\n",
    "        return self.memory[index]\n",
    "    \n",
    "    def __setitem__(self, index, value):\n",
    "        self.memory[index] = value\n",
    "    \n",
    "    def execute(self, command):\n",
    "        (order, shift) = command.split()\n",
    "        \n",
    "        if order == 'nop':\n",
    "            self.currentIdx += 1\n",
    "        elif order == 'acc':\n",
    "            self.acc += int(shift)\n",
    "            if self.debug: print(\"Accumulator raised by\", shift, \"now at\", self.acc)\n",
    "            self.currentIdx += 1\n",
    "        elif order == 'jmp':\n",
    "            if self.debug: print(\"Shifting index from\", self.currentIdx, \"by\", shift)\n",
    "            self.currentIdx += int(shift)\n",
    "    \n",
    "    def run(self):\n",
    "        if self.debug: print(\">> Starting machine\")\n",
    "        self.acc = 0\n",
    "        self.exitcode = -1\n",
    "        \n",
    "        self.lines = []\n",
    "        self.currentIdx = 0\n",
    "        while not (self.currentIdx >= len(self.input) or self.currentIdx < 0):\n",
    "            if self.currentIdx in self.lines:\n",
    "                self.exitcode = 9\n",
    "                if self.debug: print(\">> Abbruch wg. Endlosschleife!\")\n",
    "                break\n",
    "            \n",
    "            nextCommand = self.input[self.currentIdx]\n",
    "            \n",
    "            if self.debug: print()\n",
    "            if self.debug: print(self.currentIdx, self.lines)\n",
    "            if self.debug: print(\"Now at\", nextCommand)\n",
    "                \n",
    "            self.lines.append(nextCommand[0])\n",
    "            self.command = nextCommand[1]\n",
    "            \n",
    "            self.execute(self.command)\n",
    "            \n",
    "        if self.exitcode == -1:\n",
    "            self.exitcode = 0 # normal durchgelaufen, alles ok\n",
    "            \n",
    "        return (self.exitcode, self.acc)"
   ]
  },
  {
   "cell_type": "markdown",
   "metadata": {
    "hidden": true
   },
   "source": [
    "#### Part One"
   ]
  },
  {
   "cell_type": "code",
   "execution_count": 86,
   "metadata": {
    "hidden": true
   },
   "outputs": [
    {
     "name": "stdout",
     "output_type": "stream",
     "text": [
      "The accumulator was at 9 1501\n"
     ]
    }
   ],
   "source": [
    "vm = bootCode(data,False)\n",
    "_, acc = vm.run()\n",
    "\n",
    "print(\"The accumulator was at\", acc)"
   ]
  },
  {
   "cell_type": "markdown",
   "metadata": {
    "hidden": true
   },
   "source": [
    "#### Part Two"
   ]
  },
  {
   "cell_type": "code",
   "execution_count": 102,
   "metadata": {
    "hidden": true
   },
   "outputs": [
    {
     "name": "stdout",
     "output_type": "stream",
     "text": [
      "The accumulator was at 509\n"
     ]
    }
   ],
   "source": [
    "for idx, line in enumerate(data):\n",
    "    data_copy = data.copy()\n",
    "\n",
    "    if line[:3] == \"acc\":\n",
    "        continue\n",
    "    else:\n",
    "        if line[:3] == \"nop\":\n",
    "            new_command = \"jmp\" + line[3:]\n",
    "        elif line[:3] == \"jmp\":\n",
    "            new_command = \"nop\" + line[3:]\n",
    "    \n",
    "        data_copy[idx] = new_command\n",
    "\n",
    "    vm = bootCode(data_copy)\n",
    "    e, acc = vm.run()\n",
    "    \n",
    "    if e == 0:\n",
    "        break\n",
    "        \n",
    "print(\"The accumulator was at\", acc)"
   ]
  },
  {
   "cell_type": "markdown",
   "metadata": {
    "heading_collapsed": true
   },
   "source": [
    "### Day Nine"
   ]
  },
  {
   "cell_type": "code",
   "execution_count": 12,
   "metadata": {
    "hidden": true
   },
   "outputs": [],
   "source": [
    "testdata = \"\"\"35\n",
    "20\n",
    "15\n",
    "25\n",
    "47\n",
    "40\n",
    "62\n",
    "55\n",
    "65\n",
    "95\n",
    "102\n",
    "117\n",
    "150\n",
    "182\n",
    "127\n",
    "219\n",
    "299\n",
    "277\n",
    "309\n",
    "576\"\"\"\n",
    "testdata = testdata.splitlines()\n",
    "\n",
    "data = read_data('input_day9.txt')\n",
    "\n",
    "#data = testdata\n",
    "\n",
    "data = [int(x) for x in data]"
   ]
  },
  {
   "cell_type": "markdown",
   "metadata": {
    "hidden": true
   },
   "source": [
    "#### Part One"
   ]
  },
  {
   "cell_type": "code",
   "execution_count": 3,
   "metadata": {
    "hidden": true
   },
   "outputs": [
    {
     "name": "stdout",
     "output_type": "stream",
     "text": [
      "The number we are looking for is at index 537 and is: 20874512\n"
     ]
    }
   ],
   "source": [
    "PREAMBLE=25\n",
    "\n",
    "start=0\n",
    "end=PREAMBLE\n",
    "\n",
    "while True:   \n",
    "    numbers = []\n",
    "    for x in data[start:end]:\n",
    "        for y in data[start:end]:\n",
    "            if x+y not in numbers:\n",
    "                numbers.append(x+y)\n",
    "    \n",
    "    if end == len(data):\n",
    "        print(\"End of data.\")\n",
    "        break\n",
    "        \n",
    "    if data[end] not in numbers:\n",
    "        print(f\"The number we are looking for is at index {end} and is: {data[end]}\")\n",
    "        break\n",
    "        \n",
    "    end += 1\n",
    "    start = end-PREAMBLE\n",
    "    if start < 0:\n",
    "        start = 0\n",
    "         "
   ]
  },
  {
   "cell_type": "markdown",
   "metadata": {
    "hidden": true
   },
   "source": [
    "#### Part Two"
   ]
  },
  {
   "cell_type": "code",
   "execution_count": 13,
   "metadata": {
    "hidden": true
   },
   "outputs": [
    {
     "name": "stdout",
     "output_type": "stream",
     "text": [
      "Numbers: 925549 2086871\n",
      "Encryption weakness: 3012420\n"
     ]
    }
   ],
   "source": [
    "NUMBER=20874512\n",
    "#NUMBER=127\n",
    "\n",
    "numbers = {}\n",
    "for i, n in enumerate(data):\n",
    "    numbers[i] = [n]\n",
    "    \n",
    "    if i == 0:\n",
    "        continue\n",
    "        \n",
    "    for idx in range(0,i):\n",
    "        if numbers[idx]:\n",
    "            numbers[idx].append(n)\n",
    "        else:\n",
    "            continue\n",
    "        \n",
    "        current_sum = sum(numbers[idx])\n",
    "        if current_sum == NUMBER:\n",
    "            print(\"Numbers:\", min(numbers[idx]), max(numbers[idx]))\n",
    "            print(\"Encryption weakness:\", min(numbers[idx])+max(numbers[idx]))\n",
    "        elif current_sum > NUMBER:\n",
    "            numbers[idx] = None"
   ]
  },
  {
   "cell_type": "markdown",
   "metadata": {
    "heading_collapsed": true
   },
   "source": [
    "### Day Ten"
   ]
  },
  {
   "cell_type": "code",
   "execution_count": 54,
   "metadata": {
    "hidden": true
   },
   "outputs": [],
   "source": [
    "testdata = \"\"\"16\n",
    "10\n",
    "15\n",
    "5\n",
    "1\n",
    "11\n",
    "7\n",
    "19\n",
    "6\n",
    "12\n",
    "4\"\"\"\n",
    "testdata = testdata.splitlines()\n",
    "\n",
    "testdata2 = \"\"\"28\n",
    "33\n",
    "18\n",
    "42\n",
    "31\n",
    "14\n",
    "46\n",
    "20\n",
    "48\n",
    "47\n",
    "24\n",
    "23\n",
    "49\n",
    "45\n",
    "19\n",
    "38\n",
    "39\n",
    "11\n",
    "1\n",
    "32\n",
    "25\n",
    "35\n",
    "8\n",
    "17\n",
    "7\n",
    "9\n",
    "4\n",
    "2\n",
    "34\n",
    "10\n",
    "3\"\"\"\n",
    "testdata2 = testdata2.splitlines()\n",
    "\n",
    "data = read_data('input_day10.txt')"
   ]
  },
  {
   "cell_type": "code",
   "execution_count": 55,
   "metadata": {
    "hidden": true
   },
   "outputs": [],
   "source": [
    "#data = testdata\n",
    "data = [int(x) for x in data]"
   ]
  },
  {
   "cell_type": "markdown",
   "metadata": {
    "hidden": true
   },
   "source": [
    "#### Part One"
   ]
  },
  {
   "cell_type": "code",
   "execution_count": 46,
   "metadata": {
    "hidden": true
   },
   "outputs": [
    {
     "name": "stdout",
     "output_type": "stream",
     "text": [
      "Jolt is now at 168.\n",
      "There are 69 differences of 1 jolt and 34 differences of 3 jolt.\n",
      "Result: 2346\n"
     ]
    }
   ],
   "source": [
    "DEBUG=False\n",
    "\n",
    "ct_one_diff = 0\n",
    "ct_three_diff = 0\n",
    "jolts = 0\n",
    "\n",
    "adapters = data.copy()\n",
    "adapters.sort(reverse=True)\n",
    "\n",
    "if DEBUG: print(adapters)\n",
    "\n",
    "while len(adapters) != 0:\n",
    "    next_adapter = adapters.pop()\n",
    "    \n",
    "    diff = next_adapter-jolts\n",
    "    if DEBUG: print(f\"Jolt starting at {jolts}, adding difference of {diff}\")\n",
    "    \n",
    "    if diff in [1,3]:\n",
    "        if diff == 1:\n",
    "            ct_one_diff += 1\n",
    "        elif diff == 3:\n",
    "            ct_three_diff += 1\n",
    "        \n",
    "        jolts = next_adapter\n",
    "    else:\n",
    "        print(\"ERROR!\")\n",
    "        print(f\"Jolt is currently {jolts} and next adapter is {next_adapter}!\")\n",
    "        break\n",
    "\n",
    "ct_three_diff += 1\n",
    "\n",
    "print(f\"Jolt is now at {jolts}.\")\n",
    "print(f\"There are {ct_one_diff} differences of 1 jolt and {ct_three_diff} differences of 3 jolt.\")\n",
    "print(\"Result:\", ct_one_diff*ct_three_diff)"
   ]
  },
  {
   "cell_type": "markdown",
   "metadata": {
    "hidden": true
   },
   "source": [
    "#### Part Two"
   ]
  },
  {
   "cell_type": "code",
   "execution_count": 56,
   "metadata": {
    "hidden": true
   },
   "outputs": [
    {
     "name": "stdout",
     "output_type": "stream",
     "text": [
      "We found 6044831973376 possible arrangements.\n"
     ]
    }
   ],
   "source": [
    "arr = data.copy()\n",
    "arr.sort()\n",
    "arr.append(arr[-1]+3)\n",
    "\n",
    "arrangements = {0: 1}\n",
    "\n",
    "for x in arr:\n",
    "    poss_arr = arrangements.get(x-1, 0) \\\n",
    "             + arrangements.get(x-2, 0) \\\n",
    "             + arrangements.get(x-3, 0)\n",
    "    \n",
    "    arrangements[x] = poss_arr\n",
    "\n",
    "print(f\"We found {arrangements[arr[-1]]} possible arrangements.\")"
   ]
  },
  {
   "cell_type": "markdown",
   "metadata": {
    "heading_collapsed": true
   },
   "source": [
    "### Day Eleven"
   ]
  },
  {
   "cell_type": "code",
   "execution_count": 33,
   "metadata": {
    "hidden": true
   },
   "outputs": [],
   "source": [
    "testdata = \"\"\"L.LL.LL.LL\n",
    "LLLLLLL.LL\n",
    "L.L.L..L..\n",
    "LLLL.LL.LL\n",
    "L.LL.LL.LL\n",
    "L.LLLLL.LL\n",
    "..L.L.....\n",
    "LLLLLLLLLL\n",
    "L.LLLLLL.L\n",
    "L.LLLLL.LL\"\"\"\n",
    "testdata = testdata.splitlines()\n",
    "\n",
    "testdata2 = \"\"\".......#.\n",
    "...#.....\n",
    ".#.......\n",
    ".........\n",
    "..#L....#\n",
    "....#....\n",
    ".........\n",
    "#........\n",
    "...#.....\"\"\"\n",
    "testdata2 = testdata2.splitlines()\n",
    "\n",
    "full_data = read_data('input_day11.txt')"
   ]
  },
  {
   "cell_type": "code",
   "execution_count": 46,
   "metadata": {
    "hidden": true
   },
   "outputs": [],
   "source": [
    "data = testdata\n",
    "data = full_data\n",
    "\n",
    "def process_map(data):\n",
    "    \"\"\"Turning the map into a dict with (x,y) tuples as keys\"\"\"\n",
    "    x, y = 0, 0\n",
    "    seat_map = {}\n",
    "    for line in data:\n",
    "        max_y = y\n",
    "        for pos in line:\n",
    "            seat_map[(x,y)] = pos\n",
    "            x += 1\n",
    "        y += 1\n",
    "        max_x = x-1\n",
    "        x = 0\n",
    "    return seat_map, max_x, max_y\n",
    "\n",
    "seat_map, max_x, max_y = process_map(data)"
   ]
  },
  {
   "cell_type": "markdown",
   "metadata": {
    "hidden": true
   },
   "source": [
    "#### Part One"
   ]
  },
  {
   "cell_type": "code",
   "execution_count": 30,
   "metadata": {
    "hidden": true
   },
   "outputs": [
    {
     "name": "stdout",
     "output_type": "stream",
     "text": [
      "Number of occupied seats after 5 rounds: 37\n"
     ]
    }
   ],
   "source": [
    "RULE_BECOME_EMTPY = 4\n",
    "\n",
    "def adjaceants_occupied(x,y,mapping):\n",
    "    adjaceants_occupied = 0\n",
    "    for x_check in range(-1,2):\n",
    "        for y_check in range(-1,2):\n",
    "            if x_check == 0 and y_check == 0:\n",
    "                # aktuelle Position braucht nicht geprüft werden\n",
    "                continue\n",
    "            if (x+x_check, y+y_check) in mapping and mapping[(x+x_check,y+y_check)] == '#':\n",
    "                adjaceants_occupied += 1\n",
    "    return adjaceants_occupied\n",
    "                \n",
    "def find_occupied_seats(mapping, debug=False):\n",
    "    changes = 0\n",
    "    rounds = 0\n",
    "    \n",
    "    while True:\n",
    "        mapping_1 = mapping.copy()\n",
    "    \n",
    "        for y in range(max_y+1):\n",
    "            for x in range(max_x+1):\n",
    "                occupied_seats = adjaceants_occupied(x,y,mapping)\n",
    "                            \n",
    "                if mapping[(x,y)] == 'L' and occupied_seats == 0:\n",
    "                    mapping_1[(x,y)] = '#'\n",
    "                    changes += 1       \n",
    "                elif mapping[(x,y)] == '#' and occupied_seats >= RULE_BECOME_EMTPY:\n",
    "                    mapping_1[(x,y)] = 'L'\n",
    "                    changes += 1 \n",
    "                \n",
    "        rounds += 1\n",
    "        mapping = mapping_1\n",
    "        \n",
    "        if changes == 0:\n",
    "            break\n",
    "        if debug: print(\"Round:\",rounds)\n",
    "        if debug: print(mapping)\n",
    "        if debug: print()\n",
    "        changes = 0\n",
    "\n",
    "    return rounds, mapping\n",
    "    \n",
    "rounds, mapping = find_occupied_seats(seat_map.copy())\n",
    "result = sum(val == '#' for val in mapping.values())\n",
    "print(f\"Number of occupied seats after {rounds-1} rounds: {result}\")"
   ]
  },
  {
   "cell_type": "markdown",
   "metadata": {
    "hidden": true
   },
   "source": [
    "#### Part Two"
   ]
  },
  {
   "cell_type": "code",
   "execution_count": 47,
   "metadata": {
    "hidden": true
   },
   "outputs": [
    {
     "name": "stdout",
     "output_type": "stream",
     "text": [
      "Number of occupied seats after 85 rounds: 2068\n"
     ]
    }
   ],
   "source": [
    "DEBUG = False\n",
    "RULE_BECOME_EMTPY = 5\n",
    "\n",
    "mapping = seat_map.copy()\n",
    "\n",
    "def adjaceants_occupied(x,y,mapping):\n",
    "    adjaceants_occupied = 0\n",
    "    for m in [(0,-1),(1,-1),(1,0),(1,1),(0,1),(-1,1),(-1,0),(-1,-1)]:\n",
    "        i = 1\n",
    "        m = [m]\n",
    "        check_pos = [(x + a*i, y + b*i) for a, b in m][0]\n",
    "        \n",
    "        while check_pos in mapping and mapping[check_pos] == '.':\n",
    "            i += 1\n",
    "            check_pos = [(x + a*i, y + b*i) for a, b in m][0]\n",
    "        if check_pos in mapping and mapping[check_pos] == '#':\n",
    "            adjaceants_occupied += 1\n",
    "    return adjaceants_occupied\n",
    "\n",
    "rounds, mapping = find_occupied_seats(seat_map.copy(), False)\n",
    "result = sum(val == '#' for val in mapping.values())\n",
    "print(f\"Number of occupied seats after {rounds-1} rounds: {result}\")"
   ]
  },
  {
   "cell_type": "markdown",
   "metadata": {
    "heading_collapsed": true
   },
   "source": [
    "### Day Twelve"
   ]
  },
  {
   "cell_type": "code",
   "execution_count": 88,
   "metadata": {
    "hidden": true
   },
   "outputs": [],
   "source": [
    "testdata = \"\"\"F10\n",
    "N3\n",
    "F7\n",
    "R90\n",
    "F11\"\"\"\n",
    "testdata = testdata.splitlines()\n",
    "\n",
    "data = read_data('input_day12.txt')\n",
    "\n",
    "#data = testdata"
   ]
  },
  {
   "cell_type": "markdown",
   "metadata": {
    "hidden": true
   },
   "source": [
    "#### Part One"
   ]
  },
  {
   "cell_type": "code",
   "execution_count": 73,
   "metadata": {
    "hidden": true
   },
   "outputs": [
    {
     "name": "stdout",
     "output_type": "stream",
     "text": [
      "The final position is (-163, 218). Manhattan distance: 381\n"
     ]
    }
   ],
   "source": [
    "DEBUG = False\n",
    "\n",
    "x, y = 0, 0\n",
    "pos = 90 # East\n",
    "\n",
    "def get_directions(x, y, pos, line):\n",
    "    command = line[0]\n",
    "    movement = int(line[1:])\n",
    "    \n",
    "    if command in ['L','R']:\n",
    "        direction = 1 if command == 'R' else -1\n",
    "        pos += (movement * direction)\n",
    "        pos = pos % 360\n",
    "    elif command in ['F','N','S','E','W']:\n",
    "        if (command == 'F' and pos == 0) or command == 'N':\n",
    "            y -= movement\n",
    "        elif (command == 'F' and pos == 180) or command == 'S':\n",
    "            y += movement\n",
    "        elif (command == 'F' and pos == 90) or command == 'E':\n",
    "            x += movement\n",
    "        elif (command == 'F' and pos == 270) or command == 'W':\n",
    "            x -= movement\n",
    "        else:\n",
    "            print(\"ERROR 1\")\n",
    "            return\n",
    "    else:\n",
    "        print(\"ERROR 2\")\n",
    "        return\n",
    "    \n",
    "    return x, y, pos\n",
    "\n",
    "for line in data:\n",
    "    if DEBUG: print(x, y, pos, line)\n",
    "    x, y, pos = get_directions(x, y, pos, line)\n",
    "    \n",
    "print(f\"The final position is {x, y}. Manhattan distance: {abs(x)+abs(y)}\")"
   ]
  },
  {
   "cell_type": "markdown",
   "metadata": {
    "hidden": true
   },
   "source": [
    "#### Part Two"
   ]
  },
  {
   "cell_type": "code",
   "execution_count": 89,
   "metadata": {
    "hidden": true
   },
   "outputs": [
    {
     "name": "stdout",
     "output_type": "stream",
     "text": [
      "The final position is (-11946, 16645). Manhattan distance: 28591\n"
     ]
    }
   ],
   "source": [
    "DEBUG = False\n",
    "\n",
    "s_x, s_y = 0, 0\n",
    "w_x, w_y = 10, -1\n",
    "\n",
    "def get_directions(w_x, w_y, s_x, s_y, line):\n",
    "    command = line[0]\n",
    "    movement = int(line[1:])\n",
    "    \n",
    "    if command in ['L','R']:\n",
    "        direction = 1 if command == 'R' else -1\n",
    "        movement = (movement % 360) * direction\n",
    "        \n",
    "        if movement == 90 or movement == -270:\n",
    "            tmp_x = w_y * -1\n",
    "            tmp_y = w_x\n",
    "        elif movement == 180 or movement == -180:\n",
    "            tmp_x = w_x * -1\n",
    "            tmp_y = w_y * -1\n",
    "        elif movement == 270 or movement == -90:\n",
    "            tmp_x = w_y\n",
    "            tmp_y = w_x * -1\n",
    "        \n",
    "        w_x = tmp_x\n",
    "        w_y = tmp_y\n",
    "    elif command == 'F':\n",
    "        s_x += w_x * movement\n",
    "        s_y += w_y * movement\n",
    "    elif command in ['N','S','E','W']:\n",
    "        if command == 'N':\n",
    "            w_y -= movement\n",
    "        elif command == 'S':\n",
    "            w_y += movement\n",
    "        elif command == 'E':\n",
    "            w_x += movement\n",
    "        elif command == 'W':\n",
    "            w_x -= movement\n",
    "        else:\n",
    "            print(\"ERROR 1\")\n",
    "            return\n",
    "    else:\n",
    "        print(\"ERROR 2\")\n",
    "        return\n",
    "    \n",
    "    return s_x, s_y, w_x, w_y\n",
    "\n",
    "for line in data:\n",
    "    if DEBUG: print(\"Waypoint:\", w_x, w_y, \"Ship:\", s_x, s_y, line)\n",
    "    s_x, s_y, w_x, w_y = get_directions(w_x, w_y, s_x, s_y, line)\n",
    "    \n",
    "print(f\"The final position is {s_x, s_y}. Manhattan distance: {abs(s_x)+abs(s_y)}\")"
   ]
  },
  {
   "cell_type": "markdown",
   "metadata": {
    "heading_collapsed": true
   },
   "source": [
    "### Day Thirteen"
   ]
  },
  {
   "cell_type": "code",
   "execution_count": 18,
   "metadata": {
    "hidden": true
   },
   "outputs": [],
   "source": [
    "testdata = \"\"\"939\n",
    "7,13,x,x,59,x,31,19\"\"\"\n",
    "testdata = testdata.splitlines()\n",
    "\n",
    "testdata2 = \"\"\"\n",
    "17,x,13,19\"\"\"\n",
    "testdata2 = testdata2.splitlines()\n",
    "\n",
    "data = read_data('input_day13.txt')\n",
    "\n",
    "data = testdata2"
   ]
  },
  {
   "cell_type": "markdown",
   "metadata": {
    "hidden": true
   },
   "source": [
    "#### Part One"
   ]
  },
  {
   "cell_type": "code",
   "execution_count": 118,
   "metadata": {
    "hidden": true
   },
   "outputs": [
    {
     "name": "stdout",
     "output_type": "stream",
     "text": [
      "The bus busline would be #19, which has a waiting time of just 9 minutes. Answer: 171\n"
     ]
    }
   ],
   "source": [
    "departure = int(data[0])\n",
    "bus_lines = [x for x in data[1].split(',')]\n",
    "\n",
    "best_busline = (None,None)\n",
    "for b in bus_lines:\n",
    "    if b == 'x':\n",
    "        continue\n",
    "    b = int(b)\n",
    "    \n",
    "    last_departure = (departure//b)*b\n",
    "    next_departure = last_departure+b\n",
    "    waiting_time = next_departure-departure\n",
    "    \n",
    "    if best_busline[0] == None or waiting_time < best_busline[1]:\n",
    "        best_busline = (b, waiting_time)\n",
    "    \n",
    "print(f\"The bus busline would be #{best_busline[0]}, which has a waiting time of just {best_busline[1]} minutes. Answer: {best_busline[0]*best_busline[1]}\")"
   ]
  },
  {
   "cell_type": "markdown",
   "metadata": {
    "hidden": true
   },
   "source": [
    "#### Part Two"
   ]
  },
  {
   "cell_type": "code",
   "execution_count": 42,
   "metadata": {
    "hidden": true
   },
   "outputs": [],
   "source": [
    "# keine Ahnung, hierzu braucht man das \"chinese remainder theorem\", was ich nicht verstehe"
   ]
  },
  {
   "cell_type": "markdown",
   "metadata": {
    "heading_collapsed": true
   },
   "source": [
    "### Day Fourteen"
   ]
  },
  {
   "cell_type": "code",
   "execution_count": 20,
   "metadata": {
    "hidden": true
   },
   "outputs": [],
   "source": [
    "testdata = \"\"\"mask = XXXXXXXXXXXXXXXXXXXXXXXXXXXXX1XXXX0X\n",
    "mem[8] = 11\n",
    "mem[7] = 101\n",
    "mem[8] = 0\"\"\"\n",
    "testdata = testdata.splitlines()\n",
    "\n",
    "testdata2 = \"\"\"mask = 000000000000000000000000000000X1001X\n",
    "mem[42] = 100\n",
    "mask = 00000000000000000000000000000000X0XX\n",
    "mem[26] = 1\"\"\"\n",
    "testdata2 = testdata2.splitlines()\n",
    "\n",
    "data = read_data('input_day14.txt')\n",
    "\n",
    "#data = testdata2"
   ]
  },
  {
   "cell_type": "markdown",
   "metadata": {
    "hidden": true
   },
   "source": [
    "#### Part One"
   ]
  },
  {
   "cell_type": "code",
   "execution_count": 56,
   "metadata": {
    "hidden": true,
    "scrolled": true
   },
   "outputs": [
    {
     "name": "stdout",
     "output_type": "stream",
     "text": [
      "Answer: 13727901897109\n"
     ]
    }
   ],
   "source": [
    "DEBUG = False\n",
    "\n",
    "mem = {}\n",
    "\n",
    "def set_mask(value):\n",
    "    for i in range(len(value)):\n",
    "        if mask[i] == 'X' or mask[i] == value[i]:\n",
    "            continue\n",
    "        else:\n",
    "            value = value[:i] + mask[i] + value[i+1:]\n",
    "    return value\n",
    "\n",
    "def add_value(mem, pos, val):\n",
    "    binary_val = bin(val)[2:].zfill(36)        \n",
    "    masked_val = set_mask(binary_val)\n",
    "    mem[pos] = int(str(masked_val),2)\n",
    "    \n",
    "    if DEBUG: \n",
    "        print(binary_val, int(binary_val, 2))\n",
    "        print(mask)\n",
    "        print(masked_val, int(masked_val, 2))\n",
    "    \n",
    "    return mem\n",
    "\n",
    "for line in data:\n",
    "    if \"mask\" in line:\n",
    "        mask = line.split(' = ')[1]\n",
    "        if DEBUG: print(\"New mask:\", mask)\n",
    "    else:\n",
    "        if DEBUG: print(line)\n",
    "        tmp = line.split(' = ')\n",
    "        pos = int(tmp[0].split('[')[1][:-1])\n",
    "        val = int(tmp[1])\n",
    "        mem = add_value(mem, pos, val)\n",
    "\n",
    "if DEBUG: print()\n",
    "for k, v in mem.items():\n",
    "    if DEBUG: print(k, bin(v)[2:].zfill(36), v)\n",
    "if DEBUG: print()    \n",
    "print(\"Answer:\", sum(mem.values()))"
   ]
  },
  {
   "cell_type": "markdown",
   "metadata": {
    "hidden": true
   },
   "source": [
    "#### Part Two"
   ]
  },
  {
   "cell_type": "code",
   "execution_count": 21,
   "metadata": {
    "hidden": true
   },
   "outputs": [
    {
     "name": "stdout",
     "output_type": "stream",
     "text": [
      "Answer: 5579916171823\n"
     ]
    }
   ],
   "source": [
    "DEBUG = False\n",
    "\n",
    "mem = {}\n",
    "\n",
    "def add_value(mem, pos, val):\n",
    "    new_a = ''\n",
    "    for i in range(len(pos)):\n",
    "        if mask[i] == 'X' or mask[i] == pos[i]:\n",
    "            new_a += mask[i]\n",
    "        else:\n",
    "            new_a += \"1\"\n",
    "    \n",
    "    clean_a = new_a\n",
    "    a = []\n",
    "    for i in range(2**new_a.count('X')):\n",
    "        binary_choice = bin(i)[2:].zfill(new_a.count('X'))\n",
    "\n",
    "        for char in binary_choice:\n",
    "            x_pos = new_a.find('X')\n",
    "            new_a = new_a[:x_pos] + char + new_a[x_pos+1:]\n",
    "            \n",
    "        int_a = int(new_a, 2)\n",
    "        mem[int_a] = val\n",
    "        \n",
    "        new_a = clean_a\n",
    "        \n",
    "    return mem\n",
    "\n",
    "for line in data:\n",
    "    if \"mask\" in line:\n",
    "        mask = line.split(' = ')[1]\n",
    "        if DEBUG: print(\"New mask:\", mask)\n",
    "    else:\n",
    "        if DEBUG: print(line)\n",
    "        tmp = line.split(' = ')\n",
    "        pos = bin(int(tmp[0].split('[')[1][:-1]))[2:].zfill(36)\n",
    "        val = int(tmp[1])\n",
    "        mem = add_value(mem, pos, val)\n",
    "\n",
    "\n",
    "print(\"Answer:\", sum(mem.values()))"
   ]
  },
  {
   "cell_type": "markdown",
   "metadata": {
    "heading_collapsed": true
   },
   "source": [
    "### Day Fiveteen"
   ]
  },
  {
   "cell_type": "code",
   "execution_count": 63,
   "metadata": {
    "hidden": true
   },
   "outputs": [],
   "source": [
    "testdata = \"\"\"0,13,1,8,6,15\"\"\"\n",
    "testdata = testdata.splitlines()\n",
    "\n",
    "data = testdata"
   ]
  },
  {
   "cell_type": "markdown",
   "metadata": {
    "hidden": true
   },
   "source": [
    "#### Part One"
   ]
  },
  {
   "cell_type": "code",
   "execution_count": 64,
   "metadata": {
    "hidden": true
   },
   "outputs": [
    {
     "name": "stdout",
     "output_type": "stream",
     "text": [
      "Answer: 548531\n"
     ]
    }
   ],
   "source": [
    "DEBUG = False\n",
    "END:ROUND = 2020 # Part one\n",
    "END_ROUND = 30000000 # Part two\n",
    "number_dict = {}\n",
    "\n",
    "numbers = [int(x) for x in data[0].split(',')]\n",
    "if DEBUG: print(\"Start:\", numbers)\n",
    "\n",
    "# initialisation\n",
    "for i, num in enumerate(numbers):\n",
    "    if num not in number_dict:\n",
    "        number_dict[num] = [i+1]\n",
    "    else:\n",
    "        number_dict[num].append(i+1)\n",
    "    last_num = num\n",
    "    \n",
    "    if DEBUG: print(f\"Round: {str(i+1).zfill(4)} - Last nr: {last_num}\", end='')\n",
    "    if DEBUG: print(f\" - New number: {last_num}\")\n",
    "\n",
    "if DEBUG: \n",
    "    print(\"-----\")\n",
    "    print(number_dict)\n",
    "    print(\"-----\")\n",
    "    \n",
    "for i in range(len(numbers)+1, END_ROUND+1):\n",
    "    if DEBUG: print(f\"Round: {str(i).zfill(4)} - Last spoken: {last_num}\", end='')\n",
    "    \n",
    "    if len(number_dict[last_num]) < 2:\n",
    "        if DEBUG: print(\" - Hasn't been spoken\", end='')\n",
    "        last_num = 0\n",
    "    else:\n",
    "        if DEBUG: print(f\" - Found in round {number_dict[last_num][-1]} and {number_dict[last_num][-2]}\", end='')\n",
    "        last_num = number_dict[last_num][-1] - number_dict[last_num][-2]        \n",
    "    \n",
    "    if DEBUG: print(f\" - I speak: {last_num}\", end='')\n",
    "        \n",
    "    if last_num not in number_dict:\n",
    "        number_dict[last_num] = [i]\n",
    "        if DEBUG: print(\" - New entry!\", end='')\n",
    "    else:\n",
    "        number_dict[last_num].append(i)\n",
    "    if DEBUG: print(f\" - Adding {i} to {last_num}\")\n",
    "    \n",
    "if DEBUG: print(number_dict)\n",
    "    \n",
    "print(\"Answer:\", last_num)"
   ]
  },
  {
   "cell_type": "markdown",
   "metadata": {
    "hidden": true
   },
   "source": [
    "#### Part Two"
   ]
  },
  {
   "cell_type": "code",
   "execution_count": 65,
   "metadata": {
    "hidden": true
   },
   "outputs": [],
   "source": [
    "# siehe oben, nur ein höheres Rundenlimit notwendig"
   ]
  },
  {
   "cell_type": "markdown",
   "metadata": {},
   "source": [
    "### Day Sixteen"
   ]
  },
  {
   "cell_type": "code",
   "execution_count": 2,
   "metadata": {},
   "outputs": [],
   "source": [
    "testdata = \"\"\"class: 1-3 or 5-7\n",
    "row: 6-11 or 33-44\n",
    "seat: 13-40 or 45-50\n",
    "\n",
    "your ticket:\n",
    "7,1,14\n",
    "\n",
    "nearby tickets:\n",
    "7,3,47\n",
    "40,4,50\n",
    "55,2,20\n",
    "38,6,12\"\"\"\n",
    "testdata = testdata.splitlines()\n",
    "\n",
    "testdata2 = \"\"\"class: 0-1 or 4-19\n",
    "row: 0-5 or 8-19\n",
    "seat: 0-13 or 16-19\n",
    "\n",
    "your ticket:\n",
    "11,12,13\n",
    "\n",
    "nearby tickets:\n",
    "3,9,18\n",
    "15,1,5\n",
    "5,14,9\"\"\"\n",
    "testdata2 = testdata2.splitlines()\n",
    "\n",
    "data = read_data('input_day16.txt')\n",
    "\n",
    "data = testdata2"
   ]
  },
  {
   "cell_type": "markdown",
   "metadata": {},
   "source": [
    "#### Part One"
   ]
  },
  {
   "cell_type": "code",
   "execution_count": 3,
   "metadata": {},
   "outputs": [],
   "source": [
    "#preprocessing\n",
    "categories = {}\n",
    "nearby = []\n",
    "mine = []\n",
    "\n",
    "my_tickets = False\n",
    "nearby_tickets = False\n",
    "for line in data:\n",
    "    if line == \"your ticket:\":\n",
    "        my_tickets = True\n",
    "    elif line == \"nearby tickets:\":\n",
    "        nearby_tickets = True\n",
    "    elif \":\" in line:\n",
    "        tmp = line.split(\": \")\n",
    "        name = tmp[0]\n",
    "        cats = tmp[1].split(\" or \")\n",
    "        categories[name] = {}\n",
    "        for idx, c in enumerate(cats):\n",
    "            min_max_tmp = c.split('-')\n",
    "            min_max = (int(min_max_tmp[0]), int(min_max_tmp[1]))\n",
    "            categories[name][idx] = min_max\n",
    "    elif line == \"\":\n",
    "        continue\n",
    "    else:\n",
    "        line = [int(x) for x in line.split(',')]\n",
    "        if my_tickets:\n",
    "            mine = line\n",
    "            my_tickets = False\n",
    "        elif nearby_tickets:\n",
    "            nearby.append(line)"
   ]
  },
  {
   "cell_type": "code",
   "execution_count": 73,
   "metadata": {},
   "outputs": [
    {
     "name": "stdout",
     "output_type": "stream",
     "text": [
      "Answer: 19093\n"
     ]
    }
   ],
   "source": [
    "DEBUG = False\n",
    "\n",
    "tickets = nearby.copy()\n",
    "numbers = [y for x in tickets for y in x]\n",
    "\n",
    "valid_numbers = []\n",
    "for vals in categories.values():\n",
    "    for v in vals.values():\n",
    "        (tmp_min, tmp_max) = v\n",
    "        for idx in range(tmp_min, tmp_max+1):\n",
    "            if idx not in valid_numbers:\n",
    "                valid_numbers.append(idx)\n",
    "if DEBUG: valid_numbers.sort()\n",
    "if DEBUG: print(valid_numbers)\n",
    "                \n",
    "result = 0\n",
    "for n in numbers:\n",
    "    if n not in valid_numbers:\n",
    "        if DEBUG: print(\"Invalid:\", n)\n",
    "        result += n\n",
    "\n",
    "print(\"Answer:\", result)"
   ]
  },
  {
   "cell_type": "markdown",
   "metadata": {},
   "source": [
    "#### Part Two"
   ]
  },
  {
   "cell_type": "code",
   "execution_count": 28,
   "metadata": {},
   "outputs": [
    {
     "name": "stdout",
     "output_type": "stream",
     "text": [
      "{'class': [0, 1, 4, 5, 6, 7, 8, 9, 10, 11, 12, 13, 14, 15, 16, 17, 18, 19], 'row': [0, 1, 2, 3, 4, 5, 8, 9, 10, 11, 12, 13, 14, 15, 16, 17, 18, 19], 'seat': [0, 1, 2, 3, 4, 5, 6, 7, 8, 9, 10, 11, 12, 13, 16, 17, 18, 19]}\n",
      "[3, 9, 18]\n",
      "[15, 1, 5]\n",
      "[5, 14, 9]\n",
      "[[3, 15, 5], [9, 1, 14], [18, 5, 9]]\n"
     ]
    }
   ],
   "source": [
    "DEBUG = True\n",
    "\n",
    "tickets = nearby.copy()\n",
    "numbers = [y for x in tickets for y in x]\n",
    "\n",
    "cats = {}\n",
    "for k, vals in categories.items():\n",
    "    cats[k] = []\n",
    "    for v in vals.values():\n",
    "        (tmp_min, tmp_max) = v\n",
    "        for idx in range(tmp_min, tmp_max+1):\n",
    "            if idx not in cats[k]:\n",
    "                cats[k].append(idx)\n",
    "if DEBUG: print(cats)\n",
    "            \n",
    "tickets_pos = [[] for _ in range(len(tickets[0]))]\n",
    "for line in tickets:\n",
    "    print(line)\n",
    "    for idx, t in enumerate(line):\n",
    "        tickets_pos[idx] = tickets_pos[idx] + [t]\n",
    "for idx, pos in enumerate(tickets_pos):\n",
    "    tickets_pos = \n",
    "print(tickets_pos)\n"
   ]
  }
 ],
 "metadata": {
  "kernelspec": {
   "display_name": "Python 3",
   "language": "python",
   "name": "python3"
  },
  "language_info": {
   "codemirror_mode": {
    "name": "ipython",
    "version": 3
   },
   "file_extension": ".py",
   "mimetype": "text/x-python",
   "name": "python",
   "nbconvert_exporter": "python",
   "pygments_lexer": "ipython3",
   "version": "3.8.3"
  }
 },
 "nbformat": 4,
 "nbformat_minor": 4
}
